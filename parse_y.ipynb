{
 "cells": [
  {
   "cell_type": "code",
   "execution_count": 8,
   "metadata": {},
   "outputs": [],
   "source": [
    "from pathlib import Path\n",
    "from uuid import uuid4\n",
    "import subprocess\n",
    "import re"
   ]
  },
  {
   "cell_type": "code",
   "execution_count": 9,
   "metadata": {},
   "outputs": [],
   "source": [
    "EIGER_2_CBF = 'eiger2cbf'\n",
    "SIGNAL_STRENGTH = 'distl.signal_strength'\n",
    "BASE_DIR = Path('/mnt/maxiv/common/ML-crystals')\n",
    "master = BASE_DIR / 'h5/1149_2-Lysozyme_16_master.h5'\n",
    "\n",
    "def create_tmp_dir(base_dir: Path) -> Path:\n",
    "    tmp = base_dir / str(uuid4())\n",
    "    tmp.mkdir()\n",
    "    return tmp\n",
    "\n",
    "def number_frames(master: Path):\n",
    "    res = subprocess.run([EIGER_2_CBF, master], stdout=subprocess.PIPE)\n",
    "    return int(res.stdout)\n",
    "    \n",
    "def process_master(out: Path, master: Path, n: int, m :int = None):\n",
    "    cmd = [EIGER_2_CBF, master, n]\n",
    "    out_file = None\n",
    "    if m is None:\n",
    "        out_file = f'{str(out)}/out_{n:06}.cbf'\n",
    "    else:\n",
    "        cmd[2] = f'{cmd[2]}:{m}'\n",
    "        out_file = f'{str(out)}/out'\n",
    "        \n",
    "    cmd.append(out_file)\n",
    "    cmd = map(str, cmd)\n",
    "    res = subprocess.run(cmd)\n",
    "    if res.returncode != 0:\n",
    "        raise Exception(f\"ERROR: error code {res.returncode}\")\n",
    "    if m is None:\n",
    "        return Path(out_file)\n",
    "    return [out / ('out' + str(i).zfill(6) + '.cbf') for i in range(n, m+1)]\n",
    "\n",
    "def signal_strength(cbf: Path):\n",
    "    proc = subprocess.Popen(SIGNAL_STRENGTH + ' ' + str(cbf), shell=True, stdout=subprocess.PIPE)\n",
    "    res, _ = proc.communicate()\n",
    "    m = re.search(r'^\\s*Spot\\sTotal\\s*:\\s*(\\d+)', res.decode(), flags=re.MULTILINE)\n",
    "    if m is None:\n",
    "        raise Exception('Could not determine number spots')\n",
    "    return int(m.group(1))\n"
   ]
  },
  {
   "cell_type": "code",
   "execution_count": 3,
   "metadata": {},
   "outputs": [],
   "source": [
    "tmp = create_tmp_dir(BASE_DIR)"
   ]
  },
  {
   "cell_type": "code",
   "execution_count": 4,
   "metadata": {},
   "outputs": [],
   "source": [
    "out = process_master(tmp, master, 3, 4)"
   ]
  },
  {
   "cell_type": "code",
   "execution_count": 6,
   "metadata": {},
   "outputs": [
    {
     "name": "stdout",
     "output_type": "stream",
     "text": [
      "[593, 575]\n"
     ]
    }
   ],
   "source": [
    "ys = [signal_strength(f) for f in out]\n",
    "print(ys)"
   ]
  }
 ],
 "metadata": {
  "kernelspec": {
   "display_name": "Python 3",
   "language": "python",
   "name": "python3"
  },
  "language_info": {
   "codemirror_mode": {
    "name": "ipython",
    "version": 3
   },
   "file_extension": ".py",
   "mimetype": "text/x-python",
   "name": "python",
   "nbconvert_exporter": "python",
   "pygments_lexer": "ipython3",
   "version": "3.6.5"
  }
 },
 "nbformat": 4,
 "nbformat_minor": 2
}
