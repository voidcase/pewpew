{
 "cells": [
  {
   "cell_type": "code",
   "execution_count": 1,
   "metadata": {},
   "outputs": [],
   "source": [
    "import dataset.assemble as asm\n",
    "import dataset.transform as tf"
   ]
  },
  {
   "cell_type": "code",
   "execution_count": 2,
   "metadata": {},
   "outputs": [
    {
     "name": "stdout",
     "output_type": "stream",
     "text": [
      "loading meta files\n",
      "meta loaded\n"
     ]
    }
   ],
   "source": [
    "df = asm.get_dataset_df()"
   ]
  },
  {
   "cell_type": "code",
   "execution_count": 3,
   "metadata": {},
   "outputs": [],
   "source": [
    "smp = df.sample(n=100)"
   ]
  },
  {
   "cell_type": "code",
   "execution_count": null,
   "metadata": {},
   "outputs": [
    {
     "name": "stderr",
     "output_type": "stream",
     "text": [
      " 56%|█████▌    | 56/100 [00:12<00:10,  4.40it/s]"
     ]
    }
   ],
   "source": [
    "smp = tf.load_and_znorm(smp)"
   ]
  },
  {
   "cell_type": "code",
   "execution_count": null,
   "metadata": {},
   "outputs": [
    {
     "name": "stdout",
     "output_type": "stream",
     "text": [
      "> \u001b[0;32m/home/isak/repos/pewpew/src/dataset/transform.py\u001b[0m(9)\u001b[0;36m<genexpr>\u001b[0;34m()\u001b[0m\n",
      "\u001b[0;32m      7 \u001b[0;31m\u001b[0;34m\u001b[0m\u001b[0m\n",
      "\u001b[0m\u001b[0;32m      8 \u001b[0;31m\u001b[0;32mdef\u001b[0m \u001b[0m_center_of\u001b[0m\u001b[0;34m(\u001b[0m\u001b[0mimg\u001b[0m\u001b[0;34m)\u001b[0m\u001b[0;34m:\u001b[0m\u001b[0;34m\u001b[0m\u001b[0;34m\u001b[0m\u001b[0m\n",
      "\u001b[0m\u001b[0;32m----> 9 \u001b[0;31m    \u001b[0;32mreturn\u001b[0m \u001b[0mtuple\u001b[0m\u001b[0;34m(\u001b[0m\u001b[0mimg\u001b[0m\u001b[0;34m.\u001b[0m\u001b[0mshape\u001b[0m\u001b[0;34m[\u001b[0m\u001b[0ma\u001b[0m\u001b[0;34m]\u001b[0m \u001b[0;34m//\u001b[0m \u001b[0;36m2\u001b[0m \u001b[0;32mfor\u001b[0m \u001b[0ma\u001b[0m \u001b[0;32min\u001b[0m \u001b[0;34m[\u001b[0m\u001b[0;36m1\u001b[0m\u001b[0;34m,\u001b[0m \u001b[0;36m0\u001b[0m\u001b[0;34m]\u001b[0m\u001b[0;34m)\u001b[0m\u001b[0;34m\u001b[0m\u001b[0;34m\u001b[0m\u001b[0m\n",
      "\u001b[0m\u001b[0;32m     10 \u001b[0;31m\u001b[0;34m\u001b[0m\u001b[0m\n",
      "\u001b[0m\u001b[0;32m     11 \u001b[0;31m\u001b[0;32mdef\u001b[0m \u001b[0m_norm_zoom_radius\u001b[0m\u001b[0;34m(\u001b[0m\u001b[0mrow\u001b[0m\u001b[0;34m)\u001b[0m\u001b[0;34m:\u001b[0m\u001b[0;34m\u001b[0m\u001b[0;34m\u001b[0m\u001b[0m\n",
      "\u001b[0m\n",
      "ipdb> print(img)\n",
      "(array([[[ 9,  5,  4],\n",
      "        [ 9,  5,  4],\n",
      "        [ 7,  5,  4],\n",
      "        ...,\n",
      "        [13,  8,  9],\n",
      "        [13,  8,  9],\n",
      "        [12,  7,  8]],\n",
      "\n",
      "       [[ 9,  5,  4],\n",
      "        [ 9,  5,  4],\n",
      "        [ 7,  5,  4],\n",
      "        ...,\n",
      "        [14,  9, 10],\n",
      "        [13,  8,  9],\n",
      "        [13,  8,  9]],\n",
      "\n",
      "       [[ 9,  5,  4],\n",
      "        [ 9,  5,  4],\n",
      "        [ 6,  4,  3],\n",
      "        ...,\n",
      "        [12, 10, 10],\n",
      "        [13, 11, 11],\n",
      "        [13, 11, 11]],\n",
      "\n",
      "       ...,\n",
      "\n",
      "       [[15, 13, 12],\n",
      "        [15, 13, 12],\n",
      "        [16, 14, 13],\n",
      "        ...,\n",
      "        [16, 14, 13],\n",
      "        [18, 14, 13],\n",
      "        [19, 15, 14]],\n",
      "\n",
      "       [[15, 13, 12],\n",
      "        [15, 13, 12],\n",
      "        [16, 14, 13],\n",
      "        ...,\n",
      "        [15, 13, 12],\n",
      "        [19, 15, 14],\n",
      "        [19, 15, 14]],\n",
      "\n",
      "       [[15, 13, 12],\n",
      "        [15, 13, 12],\n",
      "        [16, 14, 13],\n",
      "        ...,\n",
      "        [15, 13, 12],\n",
      "        [19, 15, 14],\n",
      "        [20, 16, 15]]], dtype=uint8),)\n",
      "ipdb> u\n",
      "> \u001b[0;32m/home/isak/repos/pewpew/src/dataset/transform.py\u001b[0m(9)\u001b[0;36m_center_of\u001b[0;34m()\u001b[0m\n",
      "\u001b[0;32m      7 \u001b[0;31m\u001b[0;34m\u001b[0m\u001b[0m\n",
      "\u001b[0m\u001b[0;32m      8 \u001b[0;31m\u001b[0;32mdef\u001b[0m \u001b[0m_center_of\u001b[0m\u001b[0;34m(\u001b[0m\u001b[0mimg\u001b[0m\u001b[0;34m)\u001b[0m\u001b[0;34m:\u001b[0m\u001b[0;34m\u001b[0m\u001b[0;34m\u001b[0m\u001b[0m\n",
      "\u001b[0m\u001b[0;32m----> 9 \u001b[0;31m    \u001b[0;32mreturn\u001b[0m \u001b[0mtuple\u001b[0m\u001b[0;34m(\u001b[0m\u001b[0mimg\u001b[0m\u001b[0;34m.\u001b[0m\u001b[0mshape\u001b[0m\u001b[0;34m[\u001b[0m\u001b[0ma\u001b[0m\u001b[0;34m]\u001b[0m \u001b[0;34m//\u001b[0m \u001b[0;36m2\u001b[0m \u001b[0;32mfor\u001b[0m \u001b[0ma\u001b[0m \u001b[0;32min\u001b[0m \u001b[0;34m[\u001b[0m\u001b[0;36m1\u001b[0m\u001b[0;34m,\u001b[0m \u001b[0;36m0\u001b[0m\u001b[0;34m]\u001b[0m\u001b[0;34m)\u001b[0m\u001b[0;34m\u001b[0m\u001b[0;34m\u001b[0m\u001b[0m\n",
      "\u001b[0m\u001b[0;32m     10 \u001b[0;31m\u001b[0;34m\u001b[0m\u001b[0m\n",
      "\u001b[0m\u001b[0;32m     11 \u001b[0;31m\u001b[0;32mdef\u001b[0m \u001b[0m_norm_zoom_radius\u001b[0m\u001b[0;34m(\u001b[0m\u001b[0mrow\u001b[0m\u001b[0;34m)\u001b[0m\u001b[0;34m:\u001b[0m\u001b[0;34m\u001b[0m\u001b[0;34m\u001b[0m\u001b[0m\n",
      "\u001b[0m\n",
      "ipdb> u\n",
      "> \u001b[0;32m/home/isak/repos/pewpew/src/dataset/transform.py\u001b[0m(51)\u001b[0;36mcropped_img\u001b[0;34m()\u001b[0m\n",
      "\u001b[0;32m     49 \u001b[0;31m        \u001b[0mcrop_radius\u001b[0m \u001b[0;34m=\u001b[0m \u001b[0m_norm_zoom_radius\u001b[0m\u001b[0;34m(\u001b[0m\u001b[0mrow\u001b[0m\u001b[0;34m)\u001b[0m\u001b[0;34m\u001b[0m\u001b[0;34m\u001b[0m\u001b[0m\n",
      "\u001b[0m\u001b[0;32m     50 \u001b[0;31m    \u001b[0;32mif\u001b[0m \u001b[0;32mnot\u001b[0m \u001b[0mcenter_on\u001b[0m\u001b[0;34m:\u001b[0m\u001b[0;34m\u001b[0m\u001b[0;34m\u001b[0m\u001b[0m\n",
      "\u001b[0m\u001b[0;32m---> 51 \u001b[0;31m        \u001b[0mcenter_on\u001b[0m \u001b[0;34m=\u001b[0m \u001b[0m_center_of\u001b[0m\u001b[0;34m(\u001b[0m\u001b[0mimg\u001b[0m\u001b[0;34m)\u001b[0m\u001b[0;34m\u001b[0m\u001b[0;34m\u001b[0m\u001b[0m\n",
      "\u001b[0m\u001b[0;32m     52 \u001b[0;31m    \u001b[0mcx\u001b[0m\u001b[0;34m,\u001b[0m \u001b[0mcy\u001b[0m \u001b[0;34m=\u001b[0m \u001b[0mcenter_on\u001b[0m\u001b[0;34m\u001b[0m\u001b[0;34m\u001b[0m\u001b[0m\n",
      "\u001b[0m\u001b[0;32m     53 \u001b[0;31m    \u001b[0mimrad\u001b[0m \u001b[0;34m=\u001b[0m \u001b[0mmin\u001b[0m\u001b[0;34m(\u001b[0m\u001b[0mcx\u001b[0m\u001b[0;34m,\u001b[0m \u001b[0mcy\u001b[0m\u001b[0;34m,\u001b[0m \u001b[0mimg\u001b[0m\u001b[0;34m.\u001b[0m\u001b[0mshape\u001b[0m\u001b[0;34m[\u001b[0m\u001b[0;36m0\u001b[0m\u001b[0;34m]\u001b[0m \u001b[0;34m-\u001b[0m \u001b[0mcy\u001b[0m\u001b[0;34m,\u001b[0m \u001b[0mimg\u001b[0m\u001b[0;34m.\u001b[0m\u001b[0mshape\u001b[0m\u001b[0;34m[\u001b[0m\u001b[0;36m1\u001b[0m\u001b[0;34m]\u001b[0m \u001b[0;34m-\u001b[0m \u001b[0mcx\u001b[0m\u001b[0;34m)\u001b[0m\u001b[0;34m\u001b[0m\u001b[0;34m\u001b[0m\u001b[0m\n",
      "\u001b[0m\n",
      "ipdb> img\n",
      "(array([[[ 9,  5,  4],\n",
      "        [ 9,  5,  4],\n",
      "        [ 7,  5,  4],\n",
      "        ...,\n",
      "        [13,  8,  9],\n",
      "        [13,  8,  9],\n",
      "        [12,  7,  8]],\n",
      "\n",
      "       [[ 9,  5,  4],\n",
      "        [ 9,  5,  4],\n",
      "        [ 7,  5,  4],\n",
      "        ...,\n",
      "        [14,  9, 10],\n",
      "        [13,  8,  9],\n",
      "        [13,  8,  9]],\n",
      "\n",
      "       [[ 9,  5,  4],\n",
      "        [ 9,  5,  4],\n",
      "        [ 6,  4,  3],\n",
      "        ...,\n",
      "        [12, 10, 10],\n",
      "        [13, 11, 11],\n",
      "        [13, 11, 11]],\n",
      "\n",
      "       ...,\n",
      "\n",
      "       [[15, 13, 12],\n",
      "        [15, 13, 12],\n",
      "        [16, 14, 13],\n",
      "        ...,\n",
      "        [16, 14, 13],\n",
      "        [18, 14, 13],\n",
      "        [19, 15, 14]],\n",
      "\n",
      "       [[15, 13, 12],\n",
      "        [15, 13, 12],\n",
      "        [16, 14, 13],\n",
      "        ...,\n",
      "        [15, 13, 12],\n",
      "        [19, 15, 14],\n",
      "        [19, 15, 14]],\n",
      "\n",
      "       [[15, 13, 12],\n",
      "        [15, 13, 12],\n",
      "        [16, 14, 13],\n",
      "        ...,\n",
      "        [15, 13, 12],\n",
      "        [19, 15, 14],\n",
      "        [20, 16, 15]]], dtype=uint8),)\n",
      "ipdb> print(row)\n",
      "filename    /data/visitors/biomax/20180479/20181119/raw/Sa...\n",
      "y                                                           4\n",
      "sample                                                   3-12\n",
      "scan                                                        2\n",
      "zoom                                                        0\n",
      "img         ([[[9 5 4], [9 5 4], [7 5 4], [4 5 3], [4 5 3]...\n",
      "Name: 0, dtype: object\n",
      "ipdb> row['scan']\n",
      "'2'\n",
      "ipdb> type(row['img'])\n",
      "<class 'tuple'>\n"
     ]
    }
   ],
   "source": [
    "%debug"
   ]
  },
  {
   "cell_type": "code",
   "execution_count": 11,
   "metadata": {},
   "outputs": [
    {
     "ename": "TypeError",
     "evalue": "show_some() got an unexpected keyword argument 'seed'",
     "output_type": "error",
     "traceback": [
      "\u001b[0;31m---------------------------------------------------------------------------\u001b[0m",
      "\u001b[0;31mTypeError\u001b[0m                                 Traceback (most recent call last)",
      "\u001b[0;32m<ipython-input-11-c5f621516343>\u001b[0m in \u001b[0;36m<module>\u001b[0;34m\u001b[0m\n\u001b[0;32m----> 1\u001b[0;31m \u001b[0masm\u001b[0m\u001b[0;34m.\u001b[0m\u001b[0mshow_some\u001b[0m\u001b[0;34m(\u001b[0m\u001b[0msmp\u001b[0m\u001b[0;34m,\u001b[0m \u001b[0mseed\u001b[0m\u001b[0;34m=\u001b[0m\u001b[0;36m1337\u001b[0m\u001b[0;34m)\u001b[0m\u001b[0;34m\u001b[0m\u001b[0;34m\u001b[0m\u001b[0m\n\u001b[0m",
      "\u001b[0;31mTypeError\u001b[0m: show_some() got an unexpected keyword argument 'seed'"
     ]
    }
   ],
   "source": [
    "asm.show_some(smp, seed=1337)"
   ]
  },
  {
   "cell_type": "code",
   "execution_count": null,
   "metadata": {},
   "outputs": [],
   "source": []
  }
 ],
 "metadata": {
  "kernelspec": {
   "display_name": "Python 3",
   "language": "python",
   "name": "python3"
  },
  "language_info": {
   "codemirror_mode": {
    "name": "ipython",
    "version": 3
   },
   "file_extension": ".py",
   "mimetype": "text/x-python",
   "name": "python",
   "nbconvert_exporter": "python",
   "pygments_lexer": "ipython3",
   "version": "3.6.7"
  }
 },
 "nbformat": 4,
 "nbformat_minor": 2
}
