{
 "cells": [
  {
   "cell_type": "code",
   "execution_count": 3,
   "metadata": {},
   "outputs": [],
   "source": [
    "import numpy as np\n",
    "import cv2 as cv\n",
    "import matplotlib.pyplot as plt\n",
    "import random\n",
    "import math\n",
    "from pathlib import Path"
   ]
  },
  {
   "cell_type": "code",
   "execution_count": 4,
   "metadata": {},
   "outputs": [],
   "source": [
    "def clamp(x,minval,maxval):\n",
    "    return max(min(x,maxval),minval)"
   ]
  },
  {
   "cell_type": "code",
   "execution_count": 5,
   "metadata": {},
   "outputs": [],
   "source": [
    "def dist(p1,p2):\n",
    "    return math.sqrt(sum([abs(a-b)**2 for a,b in zip(p1,p2)]))"
   ]
  },
  {
   "cell_type": "code",
   "execution_count": 6,
   "metadata": {},
   "outputs": [],
   "source": [
    "def rotate(origin, point, angle):\n",
    "    \"\"\"\n",
    "    Rotate a point counterclockwise by a given angle around a given origin.\n",
    "\n",
    "    The angle should be given in radians.\n",
    "    \"\"\"\n",
    "    import math\n",
    "    \n",
    "    ox, oy = origin\n",
    "    px, py = point\n",
    "\n",
    "    qx = ox + math.cos(angle) * (px - ox) - math.sin(angle) * (py - oy)\n",
    "    qy = oy + math.sin(angle) * (px - ox) + math.cos(angle) * (py - oy)\n",
    "    return qx, qy"
   ]
  },
  {
   "cell_type": "code",
   "execution_count": 20,
   "metadata": {},
   "outputs": [],
   "source": [
    "def gen_img(shape=(128,128,3), radius=20):\n",
    "    # x = random.randint(0, shape[0])\n",
    "    # y = random.randint(0, shape[1])\n",
    "    import math\n",
    "    from shapely.geometry import Point\n",
    "    from shapely.geometry.polygon import Polygon\n",
    "    x, y = [\n",
    "        int(clamp(np.random.normal(shape[t]/2, shape[t]/4),0,shape[t]))\n",
    "        for t in [0, 1]\n",
    "    ]\n",
    "    center = (shape[0]//2, shape[1]//2)\n",
    "    img = np.zeros((128,128,3), np.uint8)\n",
    "    img = cv.ellipse(\n",
    "        img,\n",
    "        (x,y),\n",
    "        (random.randint(0,radius), radius),\n",
    "        0,0,360,\n",
    "        (255,0,0),\n",
    "        radius//4\n",
    "    )\n",
    "    img = cv.line(img, (x,y-radius-3), (x,0), (255,0,0), 10)\n",
    "    \n",
    "    # add crystal polygon\n",
    "    polyrot = random.random() * 2 * math.pi\n",
    "    corners = random.randint(4,8)\n",
    "    polypoints = np.array([\n",
    "        list(rotate((x,y), (x+(radius/2)*(1+2.5*random.random()),y), 2 * math.pi * i / corners + polyrot))\n",
    "        for i in range(corners)\n",
    "    ], np.int32).reshape(-1,1,2)\n",
    "    \n",
    "    img = cv.fillConvexPoly(img, polypoints, (255,0,0))\n",
    "    # calculate score\n",
    "    centerpoint = Point(center)\n",
    "    poly = Polygon([tuple(p[0]) for p in polypoints])\n",
    "    score = 1 if poly.contains(centerpoint) else 0\n",
    "    #score = radius - min(dist(center, (x,y)),radius)\n",
    "    return img, score"
   ]
  },
  {
   "cell_type": "code",
   "execution_count": 27,
   "metadata": {},
   "outputs": [
    {
     "name": "stdout",
     "output_type": "stream",
     "text": [
      "1\n"
     ]
    },
    {
     "data": {
      "image/png": "[encoded data removed]",
      "text/plain": [
       "<Figure size 432x288 with 1 Axes>"
      ]
     },
     "metadata": {
      "needs_background": "light"
     },
     "output_type": "display_data"
    }
   ],
   "source": [
    "img, score = gen_img(radius=random.randint(15,50))\n",
    "plt.imshow(img)\n",
    "print(score)"
   ]
  },
  {
   "cell_type": "code",
   "execution_count": 360,
   "metadata": {},
   "outputs": [],
   "source": [
    "import csv"
   ]
  },
  {
   "cell_type": "code",
   "execution_count": 190,
   "metadata": {},
   "outputs": [
    {
     "name": "stdout",
     "output_type": "stream",
     "text": [
      "0\n",
      "100\n",
      "200\n",
      "300\n",
      "400\n",
      "500\n",
      "600\n",
      "700\n",
      "800\n",
      "900\n",
      "1000\n",
      "1100\n",
      "1200\n",
      "1300\n",
      "1400\n",
      "1500\n",
      "1600\n",
      "1700\n",
      "1800\n",
      "1900\n",
      "2000\n",
      "2100\n",
      "2200\n",
      "2300\n",
      "2400\n",
      "2500\n",
      "2600\n",
      "2700\n",
      "2800\n",
      "2900\n",
      "3000\n",
      "3100\n",
      "3200\n",
      "3300\n",
      "3400\n",
      "3500\n",
      "3600\n",
      "3700\n",
      "3800\n",
      "3900\n",
      "4000\n",
      "4100\n",
      "4200\n",
      "4300\n",
      "4400\n",
      "4500\n",
      "4600\n",
      "4700\n",
      "4800\n",
      "4900\n",
      "5000\n",
      "5100\n",
      "5200\n",
      "5300\n",
      "5400\n",
      "5500\n",
      "5600\n",
      "5700\n",
      "5800\n",
      "5900\n",
      "6000\n",
      "6100\n",
      "6200\n",
      "6300\n",
      "6400\n",
      "6500\n",
      "6600\n",
      "6700\n",
      "6800\n",
      "6900\n",
      "7000\n",
      "7100\n",
      "7200\n",
      "7300\n",
      "7400\n",
      "7500\n",
      "7600\n",
      "7700\n",
      "7800\n",
      "7900\n",
      "8000\n",
      "8100\n",
      "8200\n",
      "8300\n",
      "8400\n",
      "8500\n",
      "8600\n",
      "8700\n",
      "8800\n",
      "8900\n",
      "9000\n",
      "9100\n",
      "9200\n",
      "9300\n",
      "9400\n",
      "9500\n",
      "9600\n",
      "9700\n",
      "9800\n",
      "9900\n"
     ]
    }
   ],
   "source": [
    "base_dir = Path('/data/staff/common/ML-crystals/fakeset/')\n",
    "if not base_dir.exists():\n",
    "    base_dir.mkdir()\n",
    "image_dir = base_dir / 'images'\n",
    "csv_path = base_dir / 'fake.csv'\n",
    "with open(csv_path, 'w') as csv_file:\n",
    "    csv_file.write('filename,y\\n')\n",
    "    for i in range(10000):\n",
    "        if i % 100 == 0:\n",
    "            print(i)\n",
    "        img, score = gen_img()\n",
    "        sample_nbr = random.randint(1,10)\n",
    "        scan_nbr = random.randint(1,3)\n",
    "        imdir = image_dir / f'SAMPLE_{sample_nbr}' / 'timed_snapshots'\n",
    "        impath = imdir / f'scan_{scan_nbr}_{i}.jpeg'\n",
    "        if not imdir.exists():\n",
    "            imdir.mkdir(parents=True)\n",
    "        cv.imwrite(str(impath), img)\n",
    "        csv_file.write(f'{impath},{score}\\n')"
   ]
  },
  {
   "cell_type": "code",
   "execution_count": null,
   "metadata": {},
   "outputs": [],
   "source": []
  },
  {
   "cell_type": "code",
   "execution_count": null,
   "metadata": {},
   "outputs": [],
   "source": []
  }
 ],
 "metadata": {
  "kernelspec": {
   "display_name": "Python 3",
   "language": "python",
   "name": "python3"
  },
  "language_info": {
   "codemirror_mode": {
    "name": "ipython",
    "version": 3
   },
   "file_extension": ".py",
   "mimetype": "text/x-python",
   "name": "python",
   "nbconvert_exporter": "python",
   "pygments_lexer": "ipython3",
   "version": "3.6.7"
  }
 },
 "nbformat": 4,
 "nbformat_minor": 2
}
