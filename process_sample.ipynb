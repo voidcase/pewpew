{
 "cells": [
  {
   "cell_type": "code",
   "execution_count": 24,
   "metadata": {},
   "outputs": [],
   "source": [
    "from pathlib import Path\n",
    "import json\n",
    "import dataset"
   ]
  },
  {
   "cell_type": "code",
   "execution_count": 25,
   "metadata": {},
   "outputs": [],
   "source": [
    "PROPOSAL_DIR = Path('/mnt/maxiv/biomax/20180479/20181119/')\n",
    "SAMPLE_DIR = PROPOSAL_DIR / 'raw' / 'Sample-4-11'\n",
    "SNAPSHOT_DIR = 'timed_snapshots'"
   ]
  },
  {
   "cell_type": "code",
   "execution_count": 43,
   "metadata": {},
   "outputs": [],
   "source": [
    "def read_meta(filename) -> dict:\n",
    "    with open(filename, 'r') as f:\n",
    "        return json.load(f)\n",
    "    \n",
    "def get_meta_files(snapshot_dir):\n",
    "    return Path(snapshot_dir).glob('*.meta.txt')\n",
    "\n",
    "class QueueEntry:\n",
    "    def __init__(self, meta, sample_dir):\n",
    "        self.meta = meta\n",
    "        self.sample_dir = Path(sample_dir)\n",
    "        self.master_file = Path(meta['fileinfo']['filename'])  # /data/visitors/...\n",
    "        self.nbr_images = meta['oscillation_sequence'][0]['number_of_images']\n",
    "        self.zoom = meta.get('zoom1', None)\n",
    "        self.frontlight = meta.get('backlight', None)\n",
    "        self.prefix = f\"{meta['fileinfo']['prefix']}_{meta['fileinfo']['run_number']}\"\n",
    "        self.images = []\n",
    "        \n",
    "    # Don't forget different time synchronization\n",
    "    def find_closest_images(self):\n",
    "        timestamps = dataset.get_timestamps(self.__local_master_file(), self.nbr_images)\n",
    "        candidates = sorted((self.sample_dir / SNAPSHOT_DIR).glob(f'{self.prefix}*'), key=lambda p: p.name)\n",
    "\n",
    "    def __local_master_file(self):\n",
    "        return self.sample_dir / self.master_file.name\n",
    "        \n",
    "    def __str__(self):\n",
    "        return str(Path(self.master_file))\n",
    "    \n",
    "    def __repr__(self):\n",
    "        return self.__str__()\n",
    "    \n",
    "entries = [QueueEntry(read_meta(meta_file), SAMPLE_DIR) for meta_file in get_meta_files(SAMPLE_DIR / SNAPSHOT_DIR)]"
   ]
  },
  {
   "cell_type": "code",
   "execution_count": 39,
   "metadata": {},
   "outputs": [],
   "source": [
    "e = entries[0]\n",
    "e.find_closest_images()"
   ]
  },
  {
   "cell_type": "code",
   "execution_count": 23,
   "metadata": {},
   "outputs": [
    {
     "name": "stdout",
     "output_type": "stream",
     "text": [
      "Once deleted, variables cannot be recovered. Proceed (y/[n])? y\n"
     ]
    }
   ],
   "source": [
    "%reset"
   ]
  }
 ],
 "metadata": {
  "kernelspec": {
   "display_name": "Python 3",
   "language": "python",
   "name": "python3"
  },
  "language_info": {
   "codemirror_mode": {
    "name": "ipython",
    "version": 3
   },
   "file_extension": ".py",
   "mimetype": "text/x-python",
   "name": "python",
   "nbconvert_exporter": "python",
   "pygments_lexer": "ipython3",
   "version": "3.6.5"
  }
 },
 "nbformat": 4,
 "nbformat_minor": 2
}
