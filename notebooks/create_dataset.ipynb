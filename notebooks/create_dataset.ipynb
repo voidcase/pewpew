{
 "cells": [
  {
   "cell_type": "code",
   "execution_count": 3,
   "metadata": {},
   "outputs": [],
   "source": [
    "from pathlib import Path\n",
    "import pandas as pd\n",
    "import random\n",
    "from sklearn.model_selection import train_test_split\n",
    "from shutil import copy\n",
    "from IPython.display import clear_output"
   ]
  },
  {
   "cell_type": "code",
   "execution_count": 9,
   "metadata": {},
   "outputs": [],
   "source": [
    "csv = Path('/data/staff/common/ML-crystals/csv/data_0.5.csv')\n",
    "dataset_dir = Path('/data/staff/common/ML-crystals/dataset')\n",
    "train_dir, test_dir = dataset_dir / 'train', dataset_dir / 'test'\n",
    "df = pd.read_csv(csv)"
   ]
  },
  {
   "cell_type": "code",
   "execution_count": 12,
   "metadata": {},
   "outputs": [],
   "source": [
    "def sample_dir(image_path):\n",
    "    return '/'.join(Path(image_path).parts[:8])[1:]\n",
    "\n",
    "def split_dataset(df):\n",
    "    # df -> train, test\n",
    "    samples = list(set(map(sample_dir, df['filename'])))\n",
    "    return train_test_split(samples, test_size=0.2, random_state=42)\n",
    "\n",
    "def copy_samples(df: pd.DataFrame, samples: set, dest: Path):\n",
    "    l = len(df)\n",
    "    a = set()\n",
    "    for index, row in df.iterrows():\n",
    "        sample = sample_dir(row['filename'])\n",
    "        print(sample, sample in samples)\n",
    "        i = int((index / l) * 100)\n",
    "        # Progress\n",
    "        if i not in a:\n",
    "            a.add(i)\n",
    "            clear_output()\n",
    "            print(f'{i}/100')\n",
    "        if sample in samples:\n",
    "            copy(row['filename'], dest)\n",
    "            \n",
    "train, test = split_dataset(df)\n",
    "train, test = set(train), set(test)"
   ]
  },
  {
   "cell_type": "code",
   "execution_count": 14,
   "metadata": {
    "scrolled": false
   },
   "outputs": [],
   "source": [
    "copy_samples(df, train, train_dir)\n",
    "copy_samples(df, test, test_dir)"
   ]
  },
  {
   "cell_type": "code",
   "execution_count": null,
   "metadata": {},
   "outputs": [],
   "source": [
    "    "
   ]
  }
 ],
 "metadata": {
  "kernelspec": {
   "display_name": "Python 3",
   "language": "python",
   "name": "python3"
  },
  "language_info": {
   "codemirror_mode": {
    "name": "ipython",
    "version": 3
   },
   "file_extension": ".py",
   "mimetype": "text/x-python",
   "name": "python",
   "nbconvert_exporter": "python",
   "pygments_lexer": "ipython3",
   "version": "3.6.5"
  }
 },
 "nbformat": 4,
 "nbformat_minor": 2
}
