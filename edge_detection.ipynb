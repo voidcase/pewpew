{
 "cells": [
  {
   "cell_type": "code",
   "execution_count": 1,
   "metadata": {},
   "outputs": [],
   "source": [
    "%matplotlib inline\n",
    "import cv2\n",
    "import os\n",
    "import numpy as np\n",
    "from matplotlib import pyplot as plt\n",
    "from imageio import imwrite\n",
    "from random import sample\n",
    "from collections import namedtuple\n",
    "plt.rcParams['image.cmap'] = 'gray' # plot as gray scale\n",
    "s = plt.imshow #show"
   ]
  },
  {
   "cell_type": "code",
   "execution_count": 18,
   "metadata": {},
   "outputs": [],
   "source": [
    "Point = namedtuple('Point', ['x', 'y'])\n",
    "Box = namedtuple('Box', ['p1', 'p2'])"
   ]
  },
  {
   "cell_type": "code",
   "execution_count": 2,
   "metadata": {},
   "outputs": [],
   "source": [
    "PATH = '/mnt/maxiv/common/ML-crystals/lyzo1_frames/'"
   ]
  },
  {
   "cell_type": "code",
   "execution_count": null,
   "metadata": {},
   "outputs": [],
   "source": [
    "### Reading images\n",
    "def read_image(name, flag=cv2.IMREAD_COLOR):\n",
    "    return cv2.imread(name, flag)\n",
    "\n",
    "\n",
    "def crop(img):\n",
    "    max_idx = np.argmax(img.shape)\n",
    "    diff = np.abs(np.diff(img.shape))[0]\n",
    "    cut1 = diff // 2\n",
    "    cut2 = diff - cut1\n",
    "    return img[:, cut1:-cut2] if max_idx == 1 else img[cut1:-cut2, :]\n",
    "\n",
    "\n",
    "def resize(img, sz):\n",
    "    if img.shape[:2] != len(img):\n",
    "        img = crop(img)\n",
    "    return cv2.resize(img, (sz, sz))\n",
    "\n",
    "\n",
    "def to_gray(img):\n",
    "    return cv2.cvtColor(img, cv2.COLOR_BGR2GRAY)\n",
    "\n",
    "\n",
    "def read_sample_images(n=10, flag=cv2.IMREAD_COLOR, scale: int = None):\n",
    "    fls = os.listdir(PATH)\n",
    "    fls = [PATH + f for f in fls]\n",
    "    fls = sample(fls, n)\n",
    "    imgs = [read_image(f, flag) for f in fls]\n",
    "    if scale is None:\n",
    "        return imgs, fls\n",
    "    imgs = [resize(img, scale) for img in imgs]\n",
    "    return imgs, fls"
   ]
  },
  {
   "cell_type": "code",
   "execution_count": null,
   "metadata": {},
   "outputs": [],
   "source": [
    "### Plotting\n",
    "def plot_images(images, titles=None, scatters=None):\n",
    "    COLS = 2\n",
    "    fig = plt.figure(figsize=(15, 40))\n",
    "    for i, img in enumerate(images):\n",
    "        ax = fig.add_subplot((len(images) // COLS) + 1, COLS, i + 1)\n",
    "        if scatters is not None:\n",
    "            ax.scatter(\n",
    "                scatters[i][0], scatters[i][1], s=50, c='red', marker='o')\n",
    "        if titles is not None:\n",
    "            ax.set_title(titles[i])\n",
    "        ax.imshow(img)\n",
    "\n",
    "\n",
    "def plot_cannys(n=10):\n",
    "    imgs = read_sample_images(n, cv2.IMREAD_GRAYSCALE)\n",
    "    cannys = [cv2.Canny(img, 45, 50, None, 3, True)[:-200, :] for img in imgs]\n",
    "    scatters = [find_intensity_max(img) for img in cannys]\n",
    "    titles = list(map(os.path.basename, fls))\n",
    "    plot_images(imgs, titles, scatters)\n",
    "\n",
    "\n",
    "def plot_histo(img, bins):\n",
    "    hist, bins = np.histogram(img.ravel(), bins=bins, range=(0, 256))\n",
    "    plt.hist(img.ravel(), bins=bins, range=(0, 256))\n",
    "\n",
    "def draw_bounding_box(imgs):\n",
    "    box_imgs = []\n",
    "    boxes = []\n",
    "    for img in imgs:\n",
    "        gray = to_gray(img)\n",
    "        gray = cv2.GaussianBlur(gray, (5, 5), 0)\n",
    "        ret, thres = cv2.threshold(gray, 0, 255,\n",
    "                                   cv2.THRESH_BINARY + cv2.THRESH_OTSU)\n",
    "        _, contours, hierarchy = cv2.findContours(thres, cv2.RETR_TREE,\n",
    "                                                  cv2.CHAIN_APPROX_SIMPLE)\n",
    "        h, w = thres.shape\n",
    "        edges = max(contours, key=len)\n",
    "        edges = remove_impossible_edges(edges, h, w, h_scale=0.1, w_scale=0.1)\n",
    "        x, y, w, h = cv2.boundingRect(edges)\n",
    "        y = 0\n",
    "        box = Box(Point(x, y), Point(x + w, y + h))\n",
    "        copy = img.copy()\n",
    "        cv2.drawContours(copy, [edges], 0, (0, 255, 0), 3)\n",
    "        cv2.rectangle(copy, (x, y), (x + w, y + h), (255, 0, 0), 10)\n",
    "        box_imgs.append(copy)\n",
    "        boxes.append(box)\n",
    "    return box_imgs, boxes"
   ]
  },
  {
   "cell_type": "code",
   "execution_count": 102,
   "metadata": {
    "scrolled": true
   },
   "outputs": [],
   "source": [
    "### Utils\n",
    "def remove_impossible_edges(edges: list,\n",
    "                            h: int,\n",
    "                            w: int,\n",
    "                            h_scale=0.1,\n",
    "                            w_scale=0.3) -> np.ndarray:\n",
    "    min_h, max_h = 0, round((1 - h_scale) * h)\n",
    "    min_w, max_w = round(w_scale * w), round((1 - w_scale) * w)\n",
    "\n",
    "    def filter_coords(coords):\n",
    "        x, y = coords[0][0], coords[0][1]\n",
    "        return (x > min_w and x < max_w) and y < max_h\n",
    "\n",
    "    return np.array(list(filter(filter_coords, edges)))\n",
    "\n",
    "\n",
    "def coord_in_box(p: Point, b: Box):\n",
    "    x1, y1 = b.p1\n",
    "    x2, y2 = b.p2\n",
    "    return x1 < p.x < x2 and y1 < p.y < y2"
   ]
  },
  {
   "cell_type": "code",
   "execution_count": 116,
   "metadata": {},
   "outputs": [
    {
     "ename": "TypeError",
     "evalue": "resize() missing 1 required positional argument: 'sz'",
     "output_type": "error",
     "traceback": [
      "\u001b[0;31m---------------------------------------------------------------------------\u001b[0m",
      "\u001b[0;31mTypeError\u001b[0m                                 Traceback (most recent call last)",
      "\u001b[0;32m<ipython-input-116-bf2e87a09037>\u001b[0m in \u001b[0;36m<module>\u001b[0;34m()\u001b[0m\n\u001b[0;32m----> 1\u001b[0;31m \u001b[0mimg\u001b[0m\u001b[0;34m,\u001b[0m \u001b[0m_\u001b[0m \u001b[0;34m=\u001b[0m \u001b[0mread_sample_images\u001b[0m\u001b[0;34m(\u001b[0m\u001b[0;36m1\u001b[0m\u001b[0;34m,\u001b[0m \u001b[0mcv2\u001b[0m\u001b[0;34m.\u001b[0m\u001b[0mIMREAD_GRAYSCALE\u001b[0m\u001b[0;34m,\u001b[0m \u001b[0mscale\u001b[0m\u001b[0;34m=\u001b[0m\u001b[0;36m20\u001b[0m\u001b[0;34m)\u001b[0m\u001b[0;34m\u001b[0m\u001b[0m\n\u001b[0m\u001b[1;32m      2\u001b[0m \u001b[0mimg\u001b[0m \u001b[0;34m=\u001b[0m \u001b[0mimg\u001b[0m\u001b[0;34m[\u001b[0m\u001b[0;36m0\u001b[0m\u001b[0;34m]\u001b[0m\u001b[0;34m\u001b[0m\u001b[0m\n\u001b[1;32m      3\u001b[0m \u001b[0ms\u001b[0m\u001b[0;34m(\u001b[0m\u001b[0mimg\u001b[0m\u001b[0;34m)\u001b[0m\u001b[0;34m\u001b[0m\u001b[0m\n",
      "\u001b[0;32m<ipython-input-102-f632c3a0e861>\u001b[0m in \u001b[0;36mread_sample_images\u001b[0;34m(n, flag, scale)\u001b[0m\n\u001b[1;32m     37\u001b[0m     \u001b[0;32mif\u001b[0m \u001b[0mscale\u001b[0m \u001b[0;32mis\u001b[0m \u001b[0;32mNone\u001b[0m\u001b[0;34m:\u001b[0m\u001b[0;34m\u001b[0m\u001b[0m\n\u001b[1;32m     38\u001b[0m         \u001b[0;32mreturn\u001b[0m \u001b[0mimgs\u001b[0m\u001b[0;34m,\u001b[0m \u001b[0mfls\u001b[0m\u001b[0;34m\u001b[0m\u001b[0m\n\u001b[0;32m---> 39\u001b[0;31m     \u001b[0mimgs\u001b[0m \u001b[0;34m=\u001b[0m \u001b[0;34m[\u001b[0m\u001b[0mresize\u001b[0m\u001b[0;34m(\u001b[0m\u001b[0mimg\u001b[0m\u001b[0;34m)\u001b[0m \u001b[0;32mfor\u001b[0m \u001b[0mimg\u001b[0m \u001b[0;32min\u001b[0m \u001b[0mimgs\u001b[0m\u001b[0;34m]\u001b[0m\u001b[0;34m\u001b[0m\u001b[0m\n\u001b[0m\u001b[1;32m     40\u001b[0m     \u001b[0;32mreturn\u001b[0m \u001b[0mimgs\u001b[0m\u001b[0;34m,\u001b[0m \u001b[0mfls\u001b[0m\u001b[0;34m\u001b[0m\u001b[0m\n\u001b[1;32m     41\u001b[0m \u001b[0;34m\u001b[0m\u001b[0m\n",
      "\u001b[0;32m<ipython-input-102-f632c3a0e861>\u001b[0m in \u001b[0;36m<listcomp>\u001b[0;34m(.0)\u001b[0m\n\u001b[1;32m     37\u001b[0m     \u001b[0;32mif\u001b[0m \u001b[0mscale\u001b[0m \u001b[0;32mis\u001b[0m \u001b[0;32mNone\u001b[0m\u001b[0;34m:\u001b[0m\u001b[0;34m\u001b[0m\u001b[0m\n\u001b[1;32m     38\u001b[0m         \u001b[0;32mreturn\u001b[0m \u001b[0mimgs\u001b[0m\u001b[0;34m,\u001b[0m \u001b[0mfls\u001b[0m\u001b[0;34m\u001b[0m\u001b[0m\n\u001b[0;32m---> 39\u001b[0;31m     \u001b[0mimgs\u001b[0m \u001b[0;34m=\u001b[0m \u001b[0;34m[\u001b[0m\u001b[0mresize\u001b[0m\u001b[0;34m(\u001b[0m\u001b[0mimg\u001b[0m\u001b[0;34m)\u001b[0m \u001b[0;32mfor\u001b[0m \u001b[0mimg\u001b[0m \u001b[0;32min\u001b[0m \u001b[0mimgs\u001b[0m\u001b[0;34m]\u001b[0m\u001b[0;34m\u001b[0m\u001b[0m\n\u001b[0m\u001b[1;32m     40\u001b[0m     \u001b[0;32mreturn\u001b[0m \u001b[0mimgs\u001b[0m\u001b[0;34m,\u001b[0m \u001b[0mfls\u001b[0m\u001b[0;34m\u001b[0m\u001b[0m\n\u001b[1;32m     41\u001b[0m \u001b[0;34m\u001b[0m\u001b[0m\n",
      "\u001b[0;31mTypeError\u001b[0m: resize() missing 1 required positional argument: 'sz'"
     ]
    }
   ],
   "source": [
    "img, _ = read_sample_images(1, cv2.IMREAD_GRAYSCALE, scale=20)\n",
    "img = img[0]\n",
    "s(img)"
   ]
  },
  {
   "cell_type": "code",
   "execution_count": 115,
   "metadata": {},
   "outputs": [
    {
     "data": {
      "text/plain": [
       "<matplotlib.image.AxesImage at 0x7f99c92cc048>"
      ]
     },
     "execution_count": 115,
     "metadata": {},
     "output_type": "execute_result"
    },
    {
     "data": {
      "image/png": "[encoded data removed]",
      "text/plain": [
       "<Figure size 432x288 with 1 Axes>"
      ]
     },
     "metadata": {},
     "output_type": "display_data"
    }
   ],
   "source": [
    "img = resize(img, 112)\n",
    "s(img)"
   ]
  }
 ],
 "metadata": {
  "kernelspec": {
   "display_name": "Python 3",
   "language": "python",
   "name": "python3"
  },
  "language_info": {
   "codemirror_mode": {
    "name": "ipython",
    "version": 3
   },
   "file_extension": ".py",
   "mimetype": "text/x-python",
   "name": "python",
   "nbconvert_exporter": "python",
   "pygments_lexer": "ipython3",
   "version": "3.6.5"
  }
 },
 "nbformat": 4,
 "nbformat_minor": 2
}
